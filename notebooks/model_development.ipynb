{
 "cells": [
  {
   "cell_type": "code",
   "execution_count": 9,
   "id": "e9ff16e2-844d-4c8e-8c26-c01023b3db14",
   "metadata": {},
   "outputs": [],
   "source": [
    "# Model Development Notebook Content\n",
    "\n",
    "# Import necessary libraries\n",
    "import pandas as pd\n",
    "from sklearn.model_selection import train_test_split\n",
    "from sklearn.tree import DecisionTreeClassifier\n",
    "from sklearn.metrics import accuracy_score\n",
    "from sklearn.preprocessing import LabelEncoder"
   ]
  },
  {
   "cell_type": "code",
   "execution_count": 10,
   "id": "a7c5f3b6-4a7d-4588-81e4-26f6885dc8d2",
   "metadata": {},
   "outputs": [],
   "source": [
    "# Load the dataset\n",
    "df = pd.read_csv('../data/raw/synthetic_debt_data.csv')\n",
    "\n",
    "# Encode categorical variables\n",
    "label_encoder = LabelEncoder()\n",
    "df['Repayment_Strategy'] = label_encoder.fit_transform(df['Repayment_Strategy'])"
   ]
  },
  {
   "cell_type": "code",
   "execution_count": 11,
   "id": "3d1323a0-7feb-4dfb-b07a-d24d8109b0b0",
   "metadata": {},
   "outputs": [],
   "source": [
    "# Splitting the features and target variable\n",
    "X = df.drop('Repayment_Strategy', axis=1)\n",
    "y = df['Repayment_Strategy']\n",
    "\n",
    "# Split the data into training, validation, and test sets\n",
    "X_train, X_temp, y_train, y_temp = train_test_split(X, y, test_size=0.3, random_state=42)\n",
    "X_validate, X_test, y_validate, y_test = train_test_split(X_temp, y_temp, test_size=0.5, random_state=42)"
   ]
  },
  {
   "cell_type": "code",
   "execution_count": 12,
   "id": "4e46a817-fa3b-492b-a9bc-8f53dee93d7e",
   "metadata": {},
   "outputs": [
    {
     "name": "stdout",
     "output_type": "stream",
     "text": [
      "Validation Accuracy: 0.36\n",
      "Feature Importances:\n",
      " Additional_Payment            0.160981\n",
      "Initial_Debt                  0.150940\n",
      "Monthly_Expenses              0.150544\n",
      "Minimum_Payment_Percentage    0.146714\n",
      "Interest_Rate                 0.141000\n",
      "Monthly_Income                0.130601\n",
      "User_ID                       0.119220\n",
      "dtype: float64\n"
     ]
    }
   ],
   "source": [
    "# Initialize and train the decision tree model\n",
    "dtree = DecisionTreeClassifier(random_state=42)\n",
    "dtree.fit(X_train, y_train)\n",
    "\n",
    "# Predict on the validation set and calculate accuracy\n",
    "y_pred_validate = dtree.predict(X_validate)\n",
    "validate_accuracy = accuracy_score(y_validate, y_pred_validate)\n",
    "print(f\"Validation Accuracy: {validate_accuracy:.2f}\")\n",
    "\n",
    "# Examine feature importance\n",
    "feature_importance = pd.Series(dtree.feature_importances_, index=X.columns).sort_values(ascending=False)\n",
    "print(\"Feature Importances:\\n\", feature_importance)"
   ]
  },
  {
   "cell_type": "code",
   "execution_count": null,
   "id": "c03d00d9-7a22-4143-811a-dfa1d630ede4",
   "metadata": {},
   "outputs": [],
   "source": []
  },
  {
   "cell_type": "code",
   "execution_count": null,
   "id": "c8760368-02a4-41f6-bbcf-e340f6994a60",
   "metadata": {},
   "outputs": [],
   "source": []
  }
 ],
 "metadata": {
  "kernelspec": {
   "display_name": "Python 3 (ipykernel)",
   "language": "python",
   "name": "python3"
  },
  "language_info": {
   "codemirror_mode": {
    "name": "ipython",
    "version": 3
   },
   "file_extension": ".py",
   "mimetype": "text/x-python",
   "name": "python",
   "nbconvert_exporter": "python",
   "pygments_lexer": "ipython3",
   "version": "3.11.3"
  }
 },
 "nbformat": 4,
 "nbformat_minor": 5
}
